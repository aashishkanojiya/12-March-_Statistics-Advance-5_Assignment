{
  "nbformat": 4,
  "nbformat_minor": 0,
  "metadata": {
    "colab": {
      "provenance": []
    },
    "kernelspec": {
      "name": "python3",
      "display_name": "Python 3"
    },
    "language_info": {
      "name": "python"
    }
  },
  "cells": [
    {
      "cell_type": "markdown",
      "source": [
        "Q1. Calculate the 95% confidence interval for a sample of data with a mean of 50 and a standard deviation\n",
        "of 5 using Python. Interpret the results."
      ],
      "metadata": {
        "id": "6d20Hh6Ba9gJ"
      }
    },
    {
      "cell_type": "markdown",
      "source": [
        "Answer:-\n",
        "\n",
        "Sample size not given in problem , Assuming sample size of 30"
      ],
      "metadata": {
        "id": "1EEQwzuTa_DX"
      }
    },
    {
      "cell_type": "code",
      "execution_count": 6,
      "metadata": {
        "colab": {
          "base_uri": "https://localhost:8080/"
        },
        "id": "qGvvOEofa8kE",
        "outputId": "8d8e5409-3687-4a8d-ca8c-7f6edb75f096"
      },
      "outputs": [
        {
          "output_type": "stream",
          "name": "stdout",
          "text": [
            "Critical t statistic for 95.00% for 30 samples : 2.0452\n",
            "Margin of error is : 1.87\n",
            "Point Estimate of mean is : 50\n",
            "Mean Estimate with 95% Confidence Interval: (48.13, 51.87)\n"
          ]
        }
      ],
      "source": [
        "import scipy.stats as stats\n",
        "\n",
        "sample_mean = 50\n",
        "sample_std_dev = 5\n",
        "sample_size = 30 # assuming a sample size of 30\n",
        "\n",
        "# calculate the standard error of the mean\n",
        "std_error_mean = sample_std_dev / (sample_size ** 0.5)\n",
        "\n",
        "# Confidence Level\n",
        "confidence_level = 0.95\n",
        "\n",
        "# significance level\n",
        "alpha = 1 -  confidence_level\n",
        "\n",
        "# calculate the t-value for a 95% confidence interval with 49 degrees of freedom\n",
        "t_value = stats.t.ppf(1-alpha/2, df=sample_size-1)\n",
        "\n",
        "# Print critical t-value\n",
        "print(f'Critical t statistic for {confidence_level*100:.2f}% for {sample_size} samples : {t_value:.4f}')\n",
        "\n",
        "# calculate the margin of error\n",
        "margin_of_error = t_value * std_error_mean\n",
        "print(f'Margin of error is : {margin_of_error:.2f}')\n",
        "print(f'Point Estimate of mean is : {sample_mean}')\n",
        "\n",
        "# calculate the lower and upper bounds of the confidence interval\n",
        "lower_bound = sample_mean - margin_of_error\n",
        "upper_bound = sample_mean + margin_of_error\n",
        "\n",
        "print(f\"Mean Estimate with 95% Confidence Interval: ({lower_bound:.2f}, {upper_bound:.2f})\")"
      ]
    },
    {
      "cell_type": "markdown",
      "source": [
        "Q2. Conduct a chi-square goodness of fit test to determine if the distribution of colors of M&Ms in a bag\n",
        "matches the expected distribution of 20% blue, 20% orange, 20% green, 10% yellow, 10% red, and 20%\n",
        "brown. Use Python to perform the test with a significance level of 0.05."
      ],
      "metadata": {
        "id": "hlXjsAt9fC9f"
      }
    },
    {
      "cell_type": "markdown",
      "source": [
        "Answer:-\n",
        "\n",
        "To conduct a chi-square goodness of fit test in Python, we can use the scipy.stats module. Specifically, we can use the chisquare() function from this module, which calculates the chi-square test statistic and p-value for a given set of observed and expected frequencies.\n",
        "\n",
        "Here's the Python code to conduct a chi-square goodness of fit test for the distribution of colors of M&Ms in a bag:"
      ],
      "metadata": {
        "id": "yROSHPL-fD9P"
      }
    },
    {
      "cell_type": "code",
      "source": [
        "import numpy as np\n",
        "import scipy.stats as stats\n",
        "\n",
        "# Observed frequencies\n",
        "obs = np.array([48, 27, 24, 15, 10, 16])\n",
        "\n",
        "# Expected frequencies (assuming equal distribution of colors)\n",
        "exp = np.array([0.2, 0.2, 0.2, 0.1, 0.1, 0.2]) * np.sum(obs)\n",
        "\n",
        "# Calculate the chi-square test statistic and p-value\n",
        "stat, pval = stats.chisquare(obs, f_exp=exp)\n",
        "\n",
        "# Print the results\n",
        "print(f\"The chi-square test statistic is {stat:.3f}\")\n",
        "print(f\"The p-value is {pval:.3f}\")\n",
        "\n",
        "if pval < 0.05:\n",
        "    print(\"We reject the null hypothesis that the observed distribution of colors matches the expected distribution.\")\n",
        "else:\n",
        "    print(\"We fail to reject the null hypothesis that the observed distribution of colors matches the expected distribution.\")"
      ],
      "metadata": {
        "colab": {
          "base_uri": "https://localhost:8080/"
        },
        "id": "MHwa0XMzbgUx",
        "outputId": "becca305-a39e-4492-9f52-0617fb788f82"
      },
      "execution_count": 7,
      "outputs": [
        {
          "output_type": "stream",
          "name": "stdout",
          "text": [
            "The chi-square test statistic is 21.250\n",
            "The p-value is 0.001\n",
            "We reject the null hypothesis that the observed distribution of colors matches the expected distribution.\n"
          ]
        }
      ]
    },
    {
      "cell_type": "markdown",
      "source": [
        "Q3. Use Python to calculate the chi-square statistic and p-value for a contingency table with the following\n",
        "data:\n",
        "\n",
        "![Screenshot 2024-11-17 195039.png](data:image/png;base64,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)\n",
        "\n",
        "Interpret the results of the test."
      ],
      "metadata": {
        "id": "oGrX_m37fu38"
      }
    },
    {
      "cell_type": "markdown",
      "source": [
        "Answer:-\n"
      ],
      "metadata": {
        "id": "mshG24LMf-3-"
      }
    },
    {
      "cell_type": "code",
      "source": [
        "import numpy as np\n",
        "from scipy.stats import chi2_contingency\n",
        "\n",
        "# Define the contingency table\n",
        "observed = np.array([[20, 15], [10, 25], [15, 20]])\n",
        "\n",
        "# Calculate the chi-square statistic, p-value, degrees of freedom, and expected frequencies\n",
        "chi2, p, dof, expected = chi2_contingency(observed)\n",
        "\n",
        "# Print the results\n",
        "print(f\"Chi-square statistic: {chi2}\")\n",
        "print(f\"P-value: {p}\")\n",
        "print(f\"Degrees of freedom: {dof}\")\n",
        "print(\"Expected frequencies:\\n\", expected)"
      ],
      "metadata": {
        "colab": {
          "base_uri": "https://localhost:8080/"
        },
        "id": "n8-nONOffrrf",
        "outputId": "304a13b1-baca-4ca9-d2af-03e52b0daeb7"
      },
      "execution_count": 10,
      "outputs": [
        {
          "output_type": "stream",
          "name": "stdout",
          "text": [
            "Chi-square statistic: 5.833333333333334\n",
            "P-value: 0.05411376622282158\n",
            "Degrees of freedom: 2\n",
            "Expected frequencies:\n",
            " [[15. 20.]\n",
            " [15. 20.]\n",
            " [15. 20.]]\n"
          ]
        }
      ]
    },
    {
      "cell_type": "markdown",
      "source": [
        "Q4. A study of the prevalence of smoking in a population of 500 individuals found that 60 individuals\n",
        "smoked. Use Python to calculate the 95% confidence interval for the true proportion of individuals in the\n",
        "population who smoke."
      ],
      "metadata": {
        "id": "6B8czNXGgjgc"
      }
    },
    {
      "cell_type": "markdown",
      "source": [
        "Answer:-\n",
        "\n",
        "To calculate the 95% confidence interval for the true proportion of individuals in the population who smoke, we can use the formula:\n",
        "\n",
        "CI = p ± z(sqrt(p(1-p)/n))\n",
        "\n",
        "Where:\n",
        "\n",
        "p is the sample proportion (number of individuals who smoke divided by the total sample size) z is the critical value from the standard normal distribution for the desired confidence level (95% confidence level corresponds to z=1.96) n is the sample size Using Python, we can calculate this as follows:"
      ],
      "metadata": {
        "id": "Fr8buiE5h9ZV"
      }
    },
    {
      "cell_type": "code",
      "source": [
        "import math\n",
        "\n",
        "# sample size\n",
        "n = 500\n",
        "\n",
        "# number of individuals who smoke\n",
        "x = 60\n",
        "\n",
        "# sample proportion\n",
        "p = x/n\n",
        "\n",
        "# critical value for 95% confidence level\n",
        "z = 1.96\n",
        "\n",
        "# calculate standard error\n",
        "se = math.sqrt(p*(1-p)/n)\n",
        "\n",
        "# calculate confidence interval\n",
        "lower = p - z*se\n",
        "upper = p + z*se\n",
        "\n",
        "print(\"95% Confidence Interval: ({:.4f}, {:.4f})\".format(lower, upper))\n"
      ],
      "metadata": {
        "colab": {
          "base_uri": "https://localhost:8080/"
        },
        "id": "Bagx8HuBgc1N",
        "outputId": "4332718c-4f3f-4697-af1a-c317716f5e94"
      },
      "execution_count": 12,
      "outputs": [
        {
          "output_type": "stream",
          "name": "stdout",
          "text": [
            "95% Confidence Interval: (0.0915, 0.1485)\n"
          ]
        }
      ]
    },
    {
      "cell_type": "markdown",
      "source": [
        "Q5. Calculate the 90% confidence interval for a sample of data with a mean of 75 and a standard deviation\n",
        "of 12 using Python. Interpret the results."
      ],
      "metadata": {
        "id": "F5W3fXokiJYH"
      }
    },
    {
      "cell_type": "markdown",
      "source": [
        "Answer:-\n",
        "\n",
        "Sample size is not given in the question assuming the sample size to be 30"
      ],
      "metadata": {
        "id": "wlFDiQsEiqaR"
      }
    },
    {
      "cell_type": "code",
      "source": [
        "import math\n",
        "\n",
        "# Given data\n",
        "sample_mean = 75\n",
        "sample_std_dev = 12\n",
        "sample_size = 30  # Assuming a sample size of 30 for this calculation\n",
        "confidence_level = 0.90\n",
        "\n",
        "# Calculate the z-score for the 90% confidence level\n",
        "z_score = 1.645  # For 90% confidence, the z-score is approximately 1.645\n",
        "\n",
        "# Calculate the standard error (SE)\n",
        "standard_error = sample_std_dev / math.sqrt(sample_size)\n",
        "\n",
        "# Calculate the margin of error (ME)\n",
        "margin_of_error = z_score * standard_error\n",
        "\n",
        "# Calculate the confidence interval (CI)\n",
        "lower_bound = sample_mean - margin_of_error\n",
        "upper_bound = sample_mean + margin_of_error\n",
        "\n",
        "# Print the results\n",
        "print(f\"Sample Mean: {sample_mean}\")\n",
        "print(f\"Standard Error: {standard_error:.4f}\")\n",
        "print(f\"Margin of Error: {margin_of_error:.4f}\")\n",
        "print(f\"90% Confidence Interval: ({lower_bound:.2f}, {upper_bound:.2f})\")\n"
      ],
      "metadata": {
        "colab": {
          "base_uri": "https://localhost:8080/"
        },
        "id": "doZwfcE_iE95",
        "outputId": "43d74560-01c2-44e3-863f-5ed1f54ec98e"
      },
      "execution_count": 13,
      "outputs": [
        {
          "output_type": "stream",
          "name": "stdout",
          "text": [
            "Sample Mean: 75\n",
            "Standard Error: 2.1909\n",
            "Margin of Error: 3.6040\n",
            "90% Confidence Interval: (71.40, 78.60)\n"
          ]
        }
      ]
    },
    {
      "cell_type": "markdown",
      "source": [
        "Q6. Use Python to plot the chi-square distribution with 10 degrees of freedom. Label the axes and shade the\n",
        "area corresponding to a chi-square statistic of 15."
      ],
      "metadata": {
        "id": "TP0Z3_576Mab"
      }
    },
    {
      "cell_type": "markdown",
      "source": [
        "Answer:-"
      ],
      "metadata": {
        "id": "liYwmE-F6R07"
      }
    },
    {
      "cell_type": "code",
      "source": [
        "import numpy as np\n",
        "import scipy.stats as stats\n",
        "import matplotlib.pyplot as plt\n",
        "\n",
        "# Set degrees of freedom\n",
        "df = 10\n",
        "\n",
        "# Define range of x-values for plotting\n",
        "x = np.linspace(stats.chi2.ppf(0.0001, df), stats.chi2.ppf(0.999, df), 100)\n",
        "\n",
        "# Create plot\n",
        "fig, ax = plt.subplots(figsize=(8, 5))\n",
        "\n",
        "# Plot chi-square distribution\n",
        "ax.plot(x, stats.chi2.pdf(x, df), 'k-', lw=2, label='Chi-square PDF')\n",
        "\n",
        "# Calculating area under curve\n",
        "area = stats.chi2.cdf(15,df)\n",
        "\n",
        "# Shade area under the curve\n",
        "x_fill = np.linspace(stats.chi2.ppf(0.0001, df), 15, 100)\n",
        "ax.fill_between(x_fill, stats.chi2.pdf(x_fill, df), color='blue', alpha=0.5,label = f'Area under shaded region = {area:.4f}')\n",
        "\n",
        "# Add legend and labels\n",
        "ax.legend(loc='best', frameon=False)\n",
        "ax.set_xlabel('X')\n",
        "ax.set_ylabel('PDF(X)')\n",
        "ax.set_title('Chi-square Distribution with 10 Degrees of Freedom')\n",
        "\n",
        "plt.show()"
      ],
      "metadata": {
        "colab": {
          "base_uri": "https://localhost:8080/",
          "height": 487
        },
        "id": "4XHfJQun6E8Q",
        "outputId": "38cf2382-f43d-4584-e04f-c970fcbe579f"
      },
      "execution_count": 14,
      "outputs": [
        {
          "output_type": "display_data",
          "data": {
            "text/plain": [
              "<Figure size 800x500 with 1 Axes>"
            ],
            "image/png": "[encoded data removed]"
          },
          "metadata": {}
        }
      ]
    },
    {
      "cell_type": "markdown",
      "source": [
        "Q7. A random sample of 1000 people was asked if they preferred Coke or Pepsi. Of the sample, 520\n",
        "preferred Coke. Calculate a 99% confidence interval for the true proportion of people in the population who\n",
        "prefer Coke."
      ],
      "metadata": {
        "id": "QLxVKPQO7w2Y"
      }
    },
    {
      "cell_type": "markdown",
      "source": [
        "Answer:-"
      ],
      "metadata": {
        "id": "r5Nz6lYx7xwQ"
      }
    },
    {
      "cell_type": "code",
      "source": [
        "import math\n",
        "\n",
        "# Given data\n",
        "sample_size = 1000\n",
        "preferred_coke = 520\n",
        "\n",
        "# Calculate the sample proportion (p_hat)\n",
        "sample_proportion = preferred_coke / sample_size\n",
        "\n",
        "# Define the Z-score for the 99% confidence level\n",
        "z_score = 2.576  # Z-score for 99% confidence interval\n",
        "\n",
        "# Calculate the standard error (SE)\n",
        "standard_error = math.sqrt((sample_proportion * (1 - sample_proportion)) / sample_size)\n",
        "\n",
        "# Calculate the margin of error (ME)\n",
        "margin_of_error = z_score * standard_error\n",
        "\n",
        "# Calculate the confidence interval (CI)\n",
        "lower_bound = sample_proportion - margin_of_error\n",
        "upper_bound = sample_proportion + margin_of_error\n",
        "\n",
        "# Print the results\n",
        "print(f\"Sample Proportion: {sample_proportion:.4f}\")\n",
        "print(f\"Standard Error: {standard_error:.4f}\")\n",
        "print(f\"Margin of Error: {margin_of_error:.4f}\")\n",
        "print(f\"99% Confidence Interval: ({lower_bound:.4f}, {upper_bound:.4f})\")"
      ],
      "metadata": {
        "colab": {
          "base_uri": "https://localhost:8080/"
        },
        "id": "USF6MlgZ7k-p",
        "outputId": "64dcacb0-a88e-46c8-8adc-9bc15c4b35e9"
      },
      "execution_count": 15,
      "outputs": [
        {
          "output_type": "stream",
          "name": "stdout",
          "text": [
            "Sample Proportion: 0.5200\n",
            "Standard Error: 0.0158\n",
            "Margin of Error: 0.0407\n",
            "99% Confidence Interval: (0.4793, 0.5607)\n"
          ]
        }
      ]
    },
    {
      "cell_type": "markdown",
      "source": [
        "Q8. A researcher hypothesizes that a coin is biased towards tails. They flip the coin 100 times and observe\n",
        "45 tails. Conduct a chi-square goodness of fit test to determine if the observed frequencies match the\n",
        "expected frequencies of a fair coin. Use a significance level of 0.05."
      ],
      "metadata": {
        "id": "oVB9M9_K8NKI"
      }
    },
    {
      "cell_type": "markdown",
      "source": [
        "Answer:-"
      ],
      "metadata": {
        "id": "wwAiOIvz8OOP"
      }
    },
    {
      "cell_type": "code",
      "source": [
        "import scipy.stats as stats\n",
        "\n",
        "# Set the observed and expected frequencies\n",
        "observed_frequencies = [45, 55]\n",
        "expected_frequencies = [50, 50]\n",
        "\n",
        "# Null and Alternate Hypothesis\n",
        "null_hypothesis = \"The Coin is FAIR\"\n",
        "alternate_hypothesis = \"The Coin is BIASED\"\n",
        "\n",
        "# Compute the chi-square test statistic and p-value\n",
        "test_statistic, p_value = stats.chisquare(observed_frequencies, f_exp=expected_frequencies)\n",
        "\n",
        "# Print the results\n",
        "print(\"Chi-Square Test Statistic: {:.4f}\".format(test_statistic))\n",
        "print(\"P-value: {:.4f}\".format(p_value))\n",
        "\n",
        "# significance level\n",
        "alpha = 0.05\n",
        "\n",
        "# Compare the p-value to the significance level\n",
        "if p_value < alpha:\n",
        "    print(f\"Reject the null hypothesis: {alternate_hypothesis}\")\n",
        "else:\n",
        "    print(f\"Fail to reject the null hypothesis: {null_hypothesis}\")"
      ],
      "metadata": {
        "colab": {
          "base_uri": "https://localhost:8080/"
        },
        "id": "VdulzH578EGw",
        "outputId": "eec24637-43c3-4c95-b0d7-4cfb2233a39f"
      },
      "execution_count": 16,
      "outputs": [
        {
          "output_type": "stream",
          "name": "stdout",
          "text": [
            "Chi-Square Test Statistic: 1.0000\n",
            "P-value: 0.3173\n",
            "Fail to reject the null hypothesis: The Coin is FAIR\n"
          ]
        }
      ]
    },
    {
      "cell_type": "markdown",
      "source": [
        "Q9. A study was conducted to determine if there is an association between smoking status (smoker or\n",
        "non-smoker) and lung cancer diagnosis (yes or no). The results are shown in the contingency table below.\n",
        "Conduct a chi-square test for independence to determine if there is a significant association between\n",
        "smoking status and lung cancer diagnosis.\n",
        "![Screenshot 2024-11-17 220228.png](data:image/png;base64,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)\n",
        "\n",
        "Use a significance level of 0.05."
      ],
      "metadata": {
        "id": "uOLmrl1K93Ww"
      }
    },
    {
      "cell_type": "markdown",
      "source": [
        "Answer:-"
      ],
      "metadata": {
        "id": "h0nGV-vS-Fuv"
      }
    },
    {
      "cell_type": "code",
      "source": [
        "import pandas as pd\n",
        "import scipy.stats as stats\n",
        "\n",
        "# Set up the contingency table\n",
        "observed_df = pd.DataFrame({'Lung Cancer:Yes':[60,30], 'Lung Cancer:No':[140,170]})\n",
        "observed_df.index = ['Smoker','Non Smoker']\n",
        "\n",
        "# Null Hypothesis and Alternate Hypothesis\n",
        "null_hypothesis = \"There is NO significant association between smoking status and lung cancer diagnosis.\"\n",
        "alternate_hypothesis = \"There is a SIGNIFICANT association between smoking status and lung cancer diagnosis.\"\n",
        "\n",
        "# Print Observed data\n",
        "print('Observed Data :')\n",
        "print(observed_df)\n",
        "print('\\n========================================\\n')\n",
        "\n",
        "# Compute the chi-square test statistic and p-value\n",
        "test_statistic, p_value, dof, expected = stats.chi2_contingency(observed_df)\n",
        "\n",
        "# Print expected df\n",
        "expected_df = pd.DataFrame(expected)\n",
        "expected_df.columns = observed_df.columns\n",
        "expected_df.index = observed_df.index\n",
        "print('Expected Data :')\n",
        "print(expected_df)\n",
        "\n",
        "# Print the results\n",
        "print(\"\\nChi-Square Test Statistic: {:.4f}\".format(test_statistic))\n",
        "print(\"P-value: {:.4f}\".format(p_value))\n",
        "\n",
        "# Significance value\n",
        "alpha = 0.05\n",
        "\n",
        "# Compare the p-value to the significance level\n",
        "if p_value < alpha:\n",
        "    print(f\"Reject the null hypothesis.\\nConclusion : {alternate_hypothesis}\")\n",
        "else:\n",
        "    print(f\"Fail to reject the null hypothesis.\\nConculsion : {null_hypothesis}\")"
      ],
      "metadata": {
        "colab": {
          "base_uri": "https://localhost:8080/"
        },
        "id": "JFfcJI0j90un",
        "outputId": "670aabde-a69b-49cc-cc63-8634d0a2fd4e"
      },
      "execution_count": 17,
      "outputs": [
        {
          "output_type": "stream",
          "name": "stdout",
          "text": [
            "Observed Data :\n",
            "            Lung Cancer:Yes  Lung Cancer:No\n",
            "Smoker                   60             140\n",
            "Non Smoker               30             170\n",
            "\n",
            "========================================\n",
            "\n",
            "Expected Data :\n",
            "            Lung Cancer:Yes  Lung Cancer:No\n",
            "Smoker                 45.0           155.0\n",
            "Non Smoker             45.0           155.0\n",
            "\n",
            "Chi-Square Test Statistic: 12.0573\n",
            "P-value: 0.0005\n",
            "Reject the null hypothesis.\n",
            "Conclusion : There is a SIGNIFICANT association between smoking status and lung cancer diagnosis.\n"
          ]
        }
      ]
    },
    {
      "cell_type": "markdown",
      "source": [
        "Q10. A study was conducted to determine if the proportion of people who prefer milk chocolate, dark\n",
        "chocolate, or white chocolate is different in the U.S. versus the U.K. A random sample of 500 people from\n",
        "the U.S. and a random sample of 500 people from the U.K. were surveyed. The results are shown in the\n",
        "contingency table below. Conduct a chi-square test for independence to determine if there is a significant\n",
        "association between chocolate preference and country of origin.\n",
        "![Screenshot 2024-11-17 220451.png](data:image/png;base64,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)\n",
        "\n",
        "Use a significance level of 0.01."
      ],
      "metadata": {
        "id": "hPgQKNuV-Zlw"
      }
    },
    {
      "cell_type": "markdown",
      "source": [
        "Answer:-"
      ],
      "metadata": {
        "id": "4B6kkFkg-sp4"
      }
    },
    {
      "cell_type": "code",
      "source": [
        "import pandas as pd\n",
        "import scipy.stats as stats\n",
        "\n",
        "# Set up the contingency table\n",
        "observed_df = pd.DataFrame({'Milk Chocolate':[200,225], 'Dark Chocolate':[150,175], 'White Chocolate':[150,100]})\n",
        "observed_df.index = ['U.S. (n=500)','U.K. (n=500)']\n",
        "print('Observed Data :')\n",
        "print(observed_df)\n",
        "\n",
        "# Null Hypothesis and Alternate Hypothesis\n",
        "null_hypothesis = \"There is NO significant association between Country and Chocolate type preffered.\"\n",
        "alternate_hypothesis = \"There is a SIGNIFICANT association between Country and Chocolate type preffered.\"\n",
        "\n",
        "print('\\n================================================================\\n')\n",
        "\n",
        "# Compute the chi-square test statistic and p-value\n",
        "test_statistic, p_value, dof, expected = stats.chi2_contingency(observed_df)\n",
        "\n",
        "# Print expected df\n",
        "expected_df = pd.DataFrame(expected)\n",
        "expected_df.columns = observed_df.columns\n",
        "expected_df.index = observed_df.index\n",
        "print('Expected Data :')\n",
        "print(expected_df)\n",
        "\n",
        "# Print the results\n",
        "print(\"\\nChi-Square Test Statistic: {:.4f}\".format(test_statistic))\n",
        "print(\"P-value: {:.4f}\".format(p_value))\n",
        "\n",
        "# Significance value\n",
        "alpha = 0.01\n",
        "\n",
        "# Compare the p-value to the significance level\n",
        "if p_value < alpha:\n",
        "    print(f\"Reject the null hypothesis.\\nConclusion : {alternate_hypothesis}\")\n",
        "else:\n",
        "    print(f\"Fail to reject the null hypothesis.\\nConculsion : {null_hypothesis}\")"
      ],
      "metadata": {
        "colab": {
          "base_uri": "https://localhost:8080/"
        },
        "id": "iIdKS-H3-V4Z",
        "outputId": "85a735e9-6ea9-48a4-e124-f815a7462e69"
      },
      "execution_count": 18,
      "outputs": [
        {
          "output_type": "stream",
          "name": "stdout",
          "text": [
            "Observed Data :\n",
            "              Milk Chocolate  Dark Chocolate  White Chocolate\n",
            "U.S. (n=500)             200             150              150\n",
            "U.K. (n=500)             225             175              100\n",
            "\n",
            "================================================================\n",
            "\n",
            "Expected Data :\n",
            "              Milk Chocolate  Dark Chocolate  White Chocolate\n",
            "U.S. (n=500)           212.5           162.5            125.0\n",
            "U.K. (n=500)           212.5           162.5            125.0\n",
            "\n",
            "Chi-Square Test Statistic: 13.3937\n",
            "P-value: 0.0012\n",
            "Reject the null hypothesis.\n",
            "Conclusion : There is a SIGNIFICANT association between Country and Chocolate type preffered.\n"
          ]
        }
      ]
    },
    {
      "cell_type": "markdown",
      "source": [
        "Q11. A random sample of 30 people was selected from a population with an unknown mean and standard\n",
        "deviation. The sample mean was found to be 72 and the sample standard deviation was found to be 10.\n",
        "Conduct a hypothesis test to determine if the population mean is significantly different from 70. Use a\n",
        "significance level of 0.05."
      ],
      "metadata": {
        "id": "iDjqIL1S_rb4"
      }
    },
    {
      "cell_type": "markdown",
      "source": [
        "Answer:-"
      ],
      "metadata": {
        "id": "07BJ3ZJsAHdW"
      }
    },
    {
      "cell_type": "code",
      "source": [
        "import math\n",
        "from scipy import stats\n",
        "\n",
        "# Given data\n",
        "sample_mean = 72\n",
        "sample_std_dev = 10\n",
        "sample_size = 30\n",
        "population_mean = 70\n",
        "confidence_level = 0.95\n",
        "\n",
        "# Calculate the t-statistic\n",
        "t_statistic = (sample_mean - population_mean) / (sample_std_dev / math.sqrt(sample_size))\n",
        "\n",
        "# Calculate the degrees of freedom\n",
        "df = sample_size - 1\n",
        "\n",
        "# Calculate the critical t-value for a two-tailed test at 0.05 significance level\n",
        "alpha = 1 - confidence_level\n",
        "critical_t_value = stats.t.ppf(1 - alpha / 2, df)\n",
        "\n",
        "# Calculate the p-value\n",
        "p_value = 2 * (1 - stats.t.cdf(abs(t_statistic), df))\n",
        "\n",
        "# Print the results\n",
        "print(f\"t-Statistic: {t_statistic:.4f}\")\n",
        "print(f\"Degrees of Freedom: {df}\")\n",
        "print(f\"Critical t-Value: {critical_t_value:.4f}\")\n",
        "print(f\"P-Value: {p_value:.4f}\")\n",
        "\n",
        "# Decision rule\n",
        "if abs(t_statistic) > critical_t_value:\n",
        "    print(\"Reject the null hypothesis: The population mean is significantly different from 70.\")\n",
        "else:\n",
        "    print(\"Fail to reject the null hypothesis: The population mean is not significantly different from 70.\")"
      ],
      "metadata": {
        "colab": {
          "base_uri": "https://localhost:8080/"
        },
        "id": "WYENRZaq_o2S",
        "outputId": "8e732fef-7eb7-4547-bf5b-c6906f3264cd"
      },
      "execution_count": 19,
      "outputs": [
        {
          "output_type": "stream",
          "name": "stdout",
          "text": [
            "t-Statistic: 1.0954\n",
            "Degrees of Freedom: 29\n",
            "Critical t-Value: 2.0452\n",
            "P-Value: 0.2823\n",
            "Fail to reject the null hypothesis: The population mean is not significantly different from 70.\n"
          ]
        }
      ]
    }
  ]
}